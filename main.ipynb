{
 "cells": [
  {
   "cell_type": "code",
   "execution_count": 2,
   "metadata": {},
   "outputs": [],
   "source": [
    "import docx\n",
    "import pandas as pd"
   ]
  },
  {
   "cell_type": "code",
   "execution_count": 3,
   "metadata": {},
   "outputs": [],
   "source": [
    "#get the docx file\n",
    "doc = docx.Document('publicServices.docx')\n",
    "\n",
    "#get the title\n",
    "title = doc.paragraphs[0].text\n",
    "\n",
    "#get the publicServices they are in the first list of the document in a numbered list (180 items)\n",
    "publicServices = []\n",
    "for i in range(2, 182):\n",
    "    publicServices.append(doc.paragraphs[i].text)\n",
    "#now we go to the 'Details' section  which is a numbered list of the services with \n",
    "#for each publicService there is it's name on the top then:\n",
    "#-'Description' a section\n",
    "#-'Services proposés' a section\n",
    "#-'Processus de candidature' a section\n",
    "#-'Critères d'éligibilité ' a section\n",
    "#each section has the name in bold with a ':' in the and and the content in the next line;the content can be in multiple lines\n"
   ]
  },
  {
   "cell_type": "code",
   "execution_count": 19,
   "metadata": {},
   "outputs": [],
   "source": [
    "def getNextBoldLineFromLineNumber(lineNumber):\n",
    "    currentLine = lineNumber+1\n",
    "    while True:\n",
    "        isBold= False\n",
    "        try:\n",
    "            isBold = doc.paragraphs[currentLine].runs[0].bold\n",
    "            if isBold:\n",
    "                return currentLine\n",
    "            else:\n",
    "                currentLine += 1\n",
    "        except Exception as e:\n",
    "            return -1\n",
    "def getNextBoldLineWithNumberFromLineNumber(lineNumber):\n",
    "    #get the next line with a bold text and a list number\n",
    "    currentLine = lineNumber\n",
    "    while True:\n",
    "        found = False\n",
    "        try:\n",
    "            found = doc.paragraphs[currentLine].runs[0].bold and doc.paragraphs[currentLine].text.split('.')[0].isdigit()\n",
    "            if found:\n",
    "                return currentLine\n",
    "            else:\n",
    "                currentLine += 1\n",
    "        except Exception as e:\n",
    "            return -1\n",
    "  "
   ]
  },
  {
   "cell_type": "code",
   "execution_count": 34,
   "metadata": {},
   "outputs": [],
   "source": [
    "              \n",
    "def getServiceDetails(titleLineNumber):\n",
    "    details = {}\n",
    "    details['name'] = doc.paragraphs[titleLineNumber].text.split('.')[1]\n",
    "    currentLine = titleLineNumber+1\n",
    "    nextDetailsBeginningLine = getNextBoldLineWithNumberFromLineNumber(currentLine)\n",
    "    paragraphs=[\n",
    "        {\n",
    "            \"key\":'description',\n",
    "            \"title\":'Description',\n",
    "            \n",
    "        },\n",
    "        {\n",
    "            'key':'services',\n",
    "            \"title\":'Services proposés',\n",
    "            \n",
    "        },\n",
    "        {\n",
    "            'key':'process',\n",
    "            'title':'Processus de candidature',\n",
    "            \n",
    "        },\n",
    "        {\n",
    "            'key':'eligibility',\n",
    "            'title':'Critères d\\'éligibilité',\n",
    "        }\n",
    "    ]\n",
    "    for par in paragraphs:\n",
    "        details[par['key']] = \"\"\n",
    "        endingLine = getNextBoldLineFromLineNumber(currentLine)\n",
    "        #print(endingLine)\n",
    "        for lineNumber in range(currentLine,endingLine):\n",
    "            details[par['key']] += doc.paragraphs[lineNumber].text\n",
    "        details[par['key']] = details[par['key']].replace(par['title']+\" :\",\"\")\n",
    "        currentLine = endingLine\n",
    "    \n",
    "    return details,nextDetailsBeginningLine"
   ]
  },
  {
   "cell_type": "code",
   "execution_count": 35,
   "metadata": {},
   "outputs": [
    {
     "name": "stdout",
     "output_type": "stream",
     "text": [
      "nb paragraphs 751\n"
     ]
    }
   ],
   "source": [
    "\n",
    "publicServicesDetails = []\n",
    "beginningLine = 186\n",
    "#next service details beginning with a bold paragph with a number\n",
    "nextDetailsBeginningLine = 186\n",
    "print(\"nb paragraphs\",len(doc.paragraphs))\n",
    "while (nextDetailsBeginningLine > 0):\n",
    "    service,nextDetailsBeginningLine = getServiceDetails(nextDetailsBeginningLine)\n",
    "    #print(nextDetailsBeginningLine)\n",
    "    publicServicesDetails.append(service)\n",
    "\n"
   ]
  },
  {
   "cell_type": "code",
   "execution_count": null,
   "metadata": {},
   "outputs": [],
   "source": [
    "\n",
    "\n",
    "#export public services to excel \n",
    "df = pd.DataFrame(publicServicesDetails)\n",
    "df.to_excel('publicServicesDetails.xlsx',index=False)\n",
    "\n",
    "#print(publicServicesDetails[0])\n"
   ]
  }
 ],
 "metadata": {
  "kernelspec": {
   "display_name": "Python 3",
   "language": "python",
   "name": "python3"
  },
  "language_info": {
   "codemirror_mode": {
    "name": "ipython",
    "version": 3
   },
   "file_extension": ".py",
   "mimetype": "text/x-python",
   "name": "python",
   "nbconvert_exporter": "python",
   "pygments_lexer": "ipython3",
   "version": "3.10.12"
  }
 },
 "nbformat": 4,
 "nbformat_minor": 2
}
